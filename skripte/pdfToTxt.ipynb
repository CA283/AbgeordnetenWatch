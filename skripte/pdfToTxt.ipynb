{
 "cells": [
  {
   "cell_type": "markdown",
   "metadata": {},
   "source": [
    "# PDF to TXT\n",
    "---\n",
    "\n",
    "### Requires downloading xpdf http://www.foolabs.com/xpdf/download.html\n",
    "\n",
    "#### Questions: Contact Kathrin Wardatzky at kathrin.wardatzky@haw-hamburg.de"
   ]
  },
  {
   "cell_type": "code",
   "execution_count": 2,
   "metadata": {
    "collapsed": true
   },
   "outputs": [],
   "source": [
    "import os"
   ]
  },
  {
   "cell_type": "code",
   "execution_count": 3,
   "metadata": {
    "collapsed": false,
    "scrolled": true
   },
   "outputs": [
    {
     "name": "stdout",
     "output_type": "stream",
     "text": [
      "desktop.ini done\n",
      "frauen.pdf done\n",
      "freie_waehler_nds_2013.pdf done\n",
      "lwp_die_grauen_2006.pdf done\n"
     ]
    }
   ],
   "source": [
    "path = \"../../data/wahlprogramme/PDF/nochmalNeu/\"\n",
    "files = os.listdir(path)\n",
    "for f in files:\n",
    "    os.system(\"pdftotext \" + path + f)\n",
    "    print(str(f) + ' done')"
   ]
  }
 ],
 "metadata": {
  "kernelspec": {
   "display_name": "Python 3",
   "language": "python",
   "name": "python3"
  },
  "language_info": {
   "codemirror_mode": {
    "name": "ipython",
    "version": 3
   },
   "file_extension": ".py",
   "mimetype": "text/x-python",
   "name": "python",
   "nbconvert_exporter": "python",
   "pygments_lexer": "ipython3",
   "version": "3.5.2"
  }
 },
 "nbformat": 4,
 "nbformat_minor": 0
}
